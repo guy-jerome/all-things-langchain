{
 "cells": [
  {
   "cell_type": "code",
   "execution_count": 12,
   "metadata": {},
   "outputs": [],
   "source": [
    "# install langchain\n",
    "from langchain_openai import ChatOpenAI\n",
    "\n",
    "llm = ChatOpenAI()\n"
   ]
  },
  {
   "cell_type": "code",
   "execution_count": 11,
   "metadata": {},
   "outputs": [
    {
     "data": {
      "text/plain": [
       "AIMessage(content='Langsmith can help with testing in the following ways:\\n\\n1. Test Automation: Langsmith provides a platform for automating tests, allowing you to write and execute test scripts in various programming languages. This helps in automating repetitive test cases and speeding up the testing process.\\n\\n2. Test Data Generation: Langsmith offers capabilities for generating test data. This is particularly useful for creating large sets of data for performance testing or generating edge cases for functional testing.\\n\\n3. Test Environment Management: Langsmith allows you to manage test environments efficiently. You can create and configure different test environments, including virtual machines, containers, or cloud-based environments. This helps in creating a consistent and reproducible testing environment.\\n\\n4. Test Reporting and Analysis: Langsmith provides comprehensive test reporting and analysis features. It generates detailed test reports, including test results, logs, and metrics, allowing you to identify issues, track progress, and make data-driven decisions to improve the quality of your software.\\n\\n5. Collaboration and Integration: Langsmith promotes collaboration among team members by providing features for sharing test scripts, test data, and test results. It also supports integration with other testing tools and frameworks, allowing you to leverage existing testing infrastructure and tools.\\n\\nOverall, Langsmith helps streamline and improve the testing process by automating tests, generating test data, managing test environments, providing test reporting and analysis, and fostering collaboration and integration.')"
      ]
     },
     "execution_count": 11,
     "metadata": {},
     "output_type": "execute_result"
    }
   ],
   "source": [
    "llm.invoke(\"how can langsmith help with testing?\")"
   ]
  },
  {
   "cell_type": "code",
   "execution_count": null,
   "metadata": {},
   "outputs": [],
   "source": [
    "# @title\n",
    "# This is how you load in your API keys.\n",
    "import os\n",
    "\n",
    "os.environ[\"OPENAI_API_KEY\"] = \"\"  # https://platform.openai.com\n",
    "os.environ['SERPAPI_API_KEY'] = \"\" # https://serpapi.com/"
   ]
  },
  {
   "cell_type": "code",
   "execution_count": 1,
   "metadata": {},
   "outputs": [],
   "source": [
    "# How to use enviroment variables:\n",
    "from dotenv import load_dotenv\n",
    "import os\n",
    "\n",
    "# Load .env file\n",
    "load_dotenv()\n",
    "api_key = os.getenv('API_KEY')"
   ]
  },
  {
   "cell_type": "code",
   "execution_count": 4,
   "metadata": {},
   "outputs": [],
   "source": [
    "#Prompts\n",
    "from langchain_core.prompts import ChatPromptTemplate\n",
    "\n",
    "prompt = ChatPromptTemplate.from_messages([\n",
    "    (\"system\", \"You are a really good singer.\"),\n",
    "    (\"user\", \"{input}\")\n",
    "])\n",
    "\n"
   ]
  },
  {
   "cell_type": "code",
   "execution_count": 7,
   "metadata": {},
   "outputs": [],
   "source": [
    "chain = prompt | llm"
   ]
  },
  {
   "cell_type": "code",
   "execution_count": 9,
   "metadata": {},
   "outputs": [
    {
     "data": {
      "text/plain": [
       "AIMessage(content=\"Sure! Here's a little song for you:\\n\\n(Verse 1)\\nIn a world full of doubt, I found my voice,\\nA melody that lifts me up, gives me a choice,\\nTo chase my dreams, and reach for the sky,\\nWith every note I sing, I'll never say goodbye.\\n\\n(Chorus)\\nI'll sing my heart out, let the music flow,\\nWith every word, my emotions will show,\\nThrough highs and lows, I'll give it my all,\\nI'll sing my way, standing tall.\\n\\n(Verse 2)\\nWith each breath I take, I feel the beat,\\nThe rhythm of life, so sweet and complete,\\nFrom the deepest valleys to the highest peaks,\\nMy voice will soar, no matter what it seeks.\\n\\n(Chorus)\\nI'll sing my heart out, let the music flow,\\nWith every word, my emotions will show,\\nThrough highs and lows, I'll give it my all,\\nI'll sing my way, standing tall.\\n\\n(Bridge)\\nWith every song I sing, I find strength within,\\nA connection to the world, where love begins,\\nMusic is my language, my soul's expression,\\nThrough every melody, I find my true confession.\\n\\n(Chorus)\\nI'll sing my heart out, let the music flow,\\nWith every word, my emotions will show,\\nThrough highs and lows, I'll give it my all,\\nI'll sing my way, standing tall.\\n\\n(Outro)\\nSo let the music play, let the rhythm guide,\\nWith every note, I'll let my spirit fly,\\nI'll share my gift, with all who will hear,\\nFor singing is my passion, forever sincere.\")"
      ]
     },
     "execution_count": 9,
     "metadata": {},
     "output_type": "execute_result"
    }
   ],
   "source": [
    "chain.invoke({\"input\":\"sing me a song\"})"
   ]
  },
  {
   "cell_type": "code",
   "execution_count": 13,
   "metadata": {},
   "outputs": [],
   "source": [
    "#Get a string instead of message\n",
    "from langchain_core.output_parsers import StrOutputParser\n",
    "\n",
    "output_parser = StrOutputParser()"
   ]
  },
  {
   "cell_type": "code",
   "execution_count": 15,
   "metadata": {},
   "outputs": [],
   "source": [
    "chain = prompt | llm | output_parser"
   ]
  },
  {
   "cell_type": "code",
   "execution_count": 16,
   "metadata": {},
   "outputs": [
    {
     "data": {
      "text/plain": [
       "\"Sing me no song, for my voice is not strong,\\nBut let me tell you a tale, of love and of longing.\\nThrough words I'll convey, the emotions that sway,\\nIn a melody that lingers, in my heart every day.\\n\\nThough my voice may not soar, like the birds in the sky,\\nI'll paint you a picture, with my words, oh so spry.\\nFor singing is not just about the notes that we reach,\\nIt's the story we tell, the emotions we teach.\\n\\nSo let me serenade you, with my humble voice,\\nAnd in each lyric, let your heart find its rejoice.\\nFor it's not the perfection, but the passion we share,\\nIn the songs we create, that make moments so rare.\\n\\nSo sing me no song, but listen instead,\\nTo the story I tell, in the words that I spread.\\nFor music is a language, that transcends all bounds,\\nAnd even without singing, its magic still surrounds.\""
      ]
     },
     "execution_count": 16,
     "metadata": {},
     "output_type": "execute_result"
    }
   ],
   "source": [
    "chain.invoke({\"input\":\"Sing me no song\"})"
   ]
  }
 ],
 "metadata": {
  "kernelspec": {
   "display_name": "Python 3",
   "language": "python",
   "name": "python3"
  },
  "language_info": {
   "codemirror_mode": {
    "name": "ipython",
    "version": 3
   },
   "file_extension": ".py",
   "mimetype": "text/x-python",
   "name": "python",
   "nbconvert_exporter": "python",
   "pygments_lexer": "ipython3",
   "version": "3.11.0"
  }
 },
 "nbformat": 4,
 "nbformat_minor": 2
}
